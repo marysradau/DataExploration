{
 "cells": [
  {
   "cell_type": "code",
   "execution_count": null,
   "id": "450d8fac",
   "metadata": {},
   "outputs": [
    {
     "name": "stderr",
     "output_type": "stream",
     "text": [
      "c:\\Users\\MFSALASG\\AppData\\Local\\Programs\\Python\\Python313\\Lib\\site-packages\\tqdm\\auto.py:21: TqdmWarning: IProgress not found. Please update jupyter and ipywidgets. See https://ipywidgets.readthedocs.io/en/stable/user_install.html\n",
      "  from .autonotebook import tqdm as notebook_tqdm\n"
     ]
    },
    {
     "name": "stdout",
     "output_type": "stream",
     "text": [
      "Downloading from https://www.kaggle.com/api/v1/datasets/download/bharatnatrayn/movies-dataset-for-feature-extracion-prediction?dataset_version_number=1...\n"
     ]
    },
    {
     "name": "stderr",
     "output_type": "stream",
     "text": [
      "100%|██████████| 1.05M/1.05M [00:00<00:00, 8.42MB/s]"
     ]
    },
    {
     "name": "stdout",
     "output_type": "stream",
     "text": [
      "Extracting files...\n"
     ]
    },
    {
     "name": "stderr",
     "output_type": "stream",
     "text": [
      "\n"
     ]
    },
    {
     "name": "stdout",
     "output_type": "stream",
     "text": [
      "Path to dataset files: C:\\Users\\MFSALASG\\.cache\\kagglehub\\datasets\\bharatnatrayn\\movies-dataset-for-feature-extracion-prediction\\versions\\1\n"
     ]
    }
   ],
   "source": [
    "import os\n",
    "from pathlib import Path\n",
    "import kagglehub\n",
    "\n",
    "# Set download folder to the DATA directory inside Data_Cleaning\n",
    "KAGGLEHUB_CACHE = r\"c:\\Users\\MFSALASG\\OneDrive\\Escritorio\\Project Inventory\\Data_Cleaning\\DATA\"\n",
    "Path(KAGGLEHUB_CACHE).mkdir(parents=True, exist_ok=True)\n",
    "os.environ['KAGGLEHUB_CACHE'] = KAGGLEHUB_CACHE\n",
    "\n",
    "# Download latest version into the DATA folder\n",
    "path = kagglehub.dataset_download(\"bharatnatrayn/movies-dataset-for-feature-extracion-prediction\", path=KAGGLEHUB_CACHE)\n",
    "\n",
    "print(\"Path to dataset files:\", path)"
   ]
  },
  {
   "cell_type": "code",
   "execution_count": null,
   "id": "a25caeea",
   "metadata": {},
   "outputs": [],
   "source": []
  }
 ],
 "metadata": {
  "kernelspec": {
   "display_name": "Python 3",
   "language": "python",
   "name": "python3"
  },
  "language_info": {
   "codemirror_mode": {
    "name": "ipython",
    "version": 3
   },
   "file_extension": ".py",
   "mimetype": "text/x-python",
   "name": "python",
   "nbconvert_exporter": "python",
   "pygments_lexer": "ipython3",
   "version": "3.13.7"
  }
 },
 "nbformat": 4,
 "nbformat_minor": 5
}
